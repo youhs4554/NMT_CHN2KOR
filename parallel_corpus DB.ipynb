{
 "cells": [
  {
   "cell_type": "code",
   "execution_count": 1,
   "metadata": {},
   "outputs": [],
   "source": [
    "import pickle\n",
    "from pandas import DataFrame"
   ]
  },
  {
   "cell_type": "code",
   "execution_count": 2,
   "metadata": {},
   "outputs": [],
   "source": [
    "with open('parallel_corpus.pkl','rb') as f:\n",
    "    data = pickle.load(f)"
   ]
  },
  {
   "cell_type": "code",
   "execution_count": 3,
   "metadata": {},
   "outputs": [],
   "source": [
    "frame = DataFrame(data, columns=['chin','ko'])"
   ]
  },
  {
   "cell_type": "code",
   "execution_count": 4,
   "metadata": {},
   "outputs": [
    {
     "data": {
      "text/html": [
       "<div>\n",
       "<style scoped>\n",
       "    .dataframe tbody tr th:only-of-type {\n",
       "        vertical-align: middle;\n",
       "    }\n",
       "\n",
       "    .dataframe tbody tr th {\n",
       "        vertical-align: top;\n",
       "    }\n",
       "\n",
       "    .dataframe thead th {\n",
       "        text-align: right;\n",
       "    }\n",
       "</style>\n",
       "<table border=\"1\" class=\"dataframe\">\n",
       "  <thead>\n",
       "    <tr style=\"text-align: right;\">\n",
       "      <th></th>\n",
       "      <th>chin</th>\n",
       "      <th>ko</th>\n",
       "    </tr>\n",
       "  </thead>\n",
       "  <tbody>\n",
       "    <tr>\n",
       "      <th>0</th>\n",
       "      <td>儒生哭臨于光化門外。 【史臣曰: \"昇遐之日, 都下儒生各以所聞先後來奔, 慟哭闕下, 至夜...</td>\n",
       "      <td>유생(儒生)이 광화문 밖에서 곡림(哭臨)하였다. 사신은 논한다. 승하하시던 날에 도...</td>\n",
       "    </tr>\n",
       "    <tr>\n",
       "      <th>1</th>\n",
       "      <td>臺諫啓前事, 憲府獨啓曰: \"近來國家多事, 畿甸之民, 受弊尤甚, 雖有減稅之命, 有司例...</td>\n",
       "      <td>대간이 전의 일을 아뢰고, 헌부가 홀로 아뢰기를, \"근래 국가에 일이 많아서 경기의...</td>\n",
       "    </tr>\n",
       "    <tr>\n",
       "      <th>2</th>\n",
       "      <td>大赦。 敎中外大小臣僚、閑良、耆老、軍民等: 王若曰, 天旣降災, 先王上賓, 未周一歲, ...</td>\n",
       "      <td>대사하여 중외(中外)의 대소 신료(大小臣僚)·한량(閑良)·기로(耆老)·군민(軍民) ...</td>\n",
       "    </tr>\n",
       "    <tr>\n",
       "      <th>3</th>\n",
       "      <td>成均館、四學儒生等會哭于光化門外, 竟日不絶。 閭巷賤人、幽閨婦女, 亦莫不奔走號哭。</td>\n",
       "      <td>성균관·사학(四學)의 유생들이 광화문 밖에 모여 종일 끊임없이 곡하고, 여염의 천인...</td>\n",
       "    </tr>\n",
       "    <tr>\n",
       "      <th>4</th>\n",
       "      <td>日暈。 太白晝見。</td>\n",
       "      <td>햇무리가 지고, 태백이 주현하였다.</td>\n",
       "    </tr>\n",
       "    <tr>\n",
       "      <th>5</th>\n",
       "      <td>未時, 上移御于景福宮。 【嘗御昌德宮, 爲接待天使故也。】 申時, 中宮移御。 【慈殿命隨...</td>\n",
       "      <td>미시(未時)에 상이 경복궁(景福宮)에 이어(移御)하고 【 창덕궁(昌德宮)에 거처하였...</td>\n",
       "    </tr>\n",
       "    <tr>\n",
       "      <th>6</th>\n",
       "      <td>乙丑/百官停哭臨。 【史臣曰: \"儀註, 第五日成殯則無哭臨。 今者成殯, (經)〔徑〕 行...</td>\n",
       "      <td>백관(百官)이 곡림(哭臨)을 멈추었다. 사신은 논한다. 의주(儀註)에 ‘닷새째 되는...</td>\n",
       "    </tr>\n",
       "    <tr>\n",
       "      <th>7</th>\n",
       "      <td>臺諫啓通事、內官等事, 憲府又啓曰: \"通事車允成、崔世協, 陰請陞職, 泛濫無忌, 亦與朴...</td>\n",
       "      <td>대간이 통사·내관 등의 일을 아뢰고, 헌부가 또 아뢰기를, \"통사 차윤성(車允成)·...</td>\n",
       "    </tr>\n",
       "  </tbody>\n",
       "</table>\n",
       "</div>"
      ],
      "text/plain": [
       "                                                chin  \\\n",
       "0  儒生哭臨于光化門外。 【史臣曰: \"昇遐之日, 都下儒生各以所聞先後來奔, 慟哭闕下, 至夜...   \n",
       "1  臺諫啓前事, 憲府獨啓曰: \"近來國家多事, 畿甸之民, 受弊尤甚, 雖有減稅之命, 有司例...   \n",
       "2  大赦。 敎中外大小臣僚、閑良、耆老、軍民等: 王若曰, 天旣降災, 先王上賓, 未周一歲, ...   \n",
       "3        成均館、四學儒生等會哭于光化門外, 竟日不絶。 閭巷賤人、幽閨婦女, 亦莫不奔走號哭。   \n",
       "4                                          日暈。 太白晝見。   \n",
       "5  未時, 上移御于景福宮。 【嘗御昌德宮, 爲接待天使故也。】 申時, 中宮移御。 【慈殿命隨...   \n",
       "6  乙丑/百官停哭臨。 【史臣曰: \"儀註, 第五日成殯則無哭臨。 今者成殯, (經)〔徑〕 行...   \n",
       "7  臺諫啓通事、內官等事, 憲府又啓曰: \"通事車允成、崔世協, 陰請陞職, 泛濫無忌, 亦與朴...   \n",
       "\n",
       "                                                  ko  \n",
       "0  유생(儒生)이 광화문 밖에서 곡림(哭臨)하였다. 사신은 논한다. 승하하시던 날에 도...  \n",
       "1  대간이 전의 일을 아뢰고, 헌부가 홀로 아뢰기를, \"근래 국가에 일이 많아서 경기의...  \n",
       "2  대사하여 중외(中外)의 대소 신료(大小臣僚)·한량(閑良)·기로(耆老)·군민(軍民) ...  \n",
       "3  성균관·사학(四學)의 유생들이 광화문 밖에 모여 종일 끊임없이 곡하고, 여염의 천인...  \n",
       "4                                햇무리가 지고, 태백이 주현하였다.  \n",
       "5  미시(未時)에 상이 경복궁(景福宮)에 이어(移御)하고 【 창덕궁(昌德宮)에 거처하였...  \n",
       "6  백관(百官)이 곡림(哭臨)을 멈추었다. 사신은 논한다. 의주(儀註)에 ‘닷새째 되는...  \n",
       "7  대간이 통사·내관 등의 일을 아뢰고, 헌부가 또 아뢰기를, \"통사 차윤성(車允成)·...  "
      ]
     },
     "execution_count": 4,
     "metadata": {},
     "output_type": "execute_result"
    }
   ],
   "source": [
    "frame"
   ]
  },
  {
   "cell_type": "code",
   "execution_count": 8,
   "metadata": {},
   "outputs": [
    {
     "name": "stdout",
     "output_type": "stream",
     "text": [
      "儒生哭臨于光化門外。 【史臣曰: \"昇遐之日, 都下儒生各以所聞先後來奔, 慟哭闕下, 至夜不絶, 至如愚夫愚婦, 塡街塞道, 莫不拊膺。 大行王臨薨, 絶而復蘇者數矣, 民間聞之, 自闕下達于曲巷, 無長幼咸攢手祝天。 至是日儒生又哭闕外, 皆盡其哀。 嗚呼! 許多儒生, 豈盡君子人, 愚夫愚婦, 亦孰使之然哉? 卽祚未年, 人心如此, 可知德之感人易而入人深也。\"】\n"
     ]
    }
   ],
   "source": [
    "print frame.chin.values[0]"
   ]
  },
  {
   "cell_type": "code",
   "execution_count": null,
   "metadata": {},
   "outputs": [],
   "source": []
  }
 ],
 "metadata": {
  "kernelspec": {
   "display_name": "Python 2",
   "language": "python",
   "name": "python2"
  },
  "language_info": {
   "codemirror_mode": {
    "name": "ipython",
    "version": 2
   },
   "file_extension": ".py",
   "mimetype": "text/x-python",
   "name": "python",
   "nbconvert_exporter": "python",
   "pygments_lexer": "ipython2",
   "version": "2.7.12"
  }
 },
 "nbformat": 4,
 "nbformat_minor": 2
}
